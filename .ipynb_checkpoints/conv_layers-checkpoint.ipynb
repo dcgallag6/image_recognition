{
 "cells": [
  {
   "cell_type": "markdown",
   "id": "a7ff6a20-aad5-441b-b7d6-a2088a6e7642",
   "metadata": {},
   "source": [
    "* Convolutional neural networks apply a filter to an input to create a feature map that summarizes the presence of detected features in the input.\n",
    "* Filters can be handcrafted, such as line detectors, but the innovation of convolutional neural networks is to learn the filters during training in the context of a specific prediction problem."
   ]
  },
  {
   "cell_type": "markdown",
   "id": "ab4c0473-7c22-4522-a1fb-5f55e633b125",
   "metadata": {},
   "source": [
    "# 1D Convolutional Layer"
   ]
  },
  {
   "cell_type": "code",
   "execution_count": 5,
   "id": "de071a8c-0d27-4e08-abd4-129a22d97cd8",
   "metadata": {},
   "outputs": [],
   "source": [
    "import numpy as np\n",
    "import pandas as pd\n",
    "from tensorflow.keras import Sequential\n",
    "from tensorflow.keras.layers import Flatten, Dense, Conv1D, MaxPooling2D"
   ]
  },
  {
   "cell_type": "code",
   "execution_count": 6,
   "id": "4081bf32-b5de-44ba-ae45-231cf9889e61",
   "metadata": {},
   "outputs": [],
   "source": [
    "# Bump Detector\n",
    "# define input data\n",
    "data = np.array([0, 0, 0, 1, 1, 0, 0, 0])\n",
    "data = data.reshape(1, 8, 1)"
   ]
  },
  {
   "cell_type": "code",
   "execution_count": 7,
   "id": "5bc9bb63-549b-429b-80cb-90362308bbbe",
   "metadata": {},
   "outputs": [],
   "source": [
    "# create model\n",
    "model = Sequential()\n",
    "model.add(Conv1D(1, 3, input_shape=(8, 1)))"
   ]
  },
  {
   "cell_type": "code",
   "execution_count": 10,
   "id": "ecb578c9-d275-4e13-9f05-5d641d404d2f",
   "metadata": {},
   "outputs": [],
   "source": [
    "# define a vertical line detector\n",
    "weights = [np.array([[[0]],[[1]],[[0]]]), np.array([0.0])]\n",
    "# store the weights in the model\n",
    "model.set_weights(weights)"
   ]
  },
  {
   "cell_type": "code",
   "execution_count": 11,
   "id": "35b04afe-b432-41de-8738-7a5c9a1abfb9",
   "metadata": {},
   "outputs": [
    {
     "name": "stdout",
     "output_type": "stream",
     "text": [
      "[array([[[0.]],\n",
      "\n",
      "       [[1.]],\n",
      "\n",
      "       [[0.]]], dtype=float32), array([0.], dtype=float32)]\n"
     ]
    }
   ],
   "source": [
    "# confirm they were stored\n",
    "print(model.get_weights())"
   ]
  },
  {
   "cell_type": "code",
   "execution_count": 12,
   "id": "3efb3068-968b-4469-94d0-8d89ed5fa76b",
   "metadata": {},
   "outputs": [
    {
     "name": "stdout",
     "output_type": "stream",
     "text": [
      "[[[0.]\n",
      "  [0.]\n",
      "  [1.]\n",
      "  [1.]\n",
      "  [0.]\n",
      "  [0.]]]\n"
     ]
    }
   ],
   "source": [
    "# apply filter to input data\n",
    "yhat = model.predict(data)\n",
    "print(yhat)"
   ]
  },
  {
   "cell_type": "markdown",
   "id": "948b3990-0e90-4a07-92cc-389fe4d003d1",
   "metadata": {},
   "source": [
    "# 2D Convolutional Layer"
   ]
  },
  {
   "cell_type": "code",
   "execution_count": 15,
   "id": "ec9272ec-76d0-45ad-9b3b-3a9112f9760e",
   "metadata": {},
   "outputs": [],
   "source": [
    "# define input data\n",
    "data = [[0, 0, 0, 1, 1, 0, 0, 0],\n",
    "\t\t[0, 0, 0, 1, 1, 0, 0, 0],\n",
    "\t\t[0, 0, 0, 1, 1, 0, 0, 0],\n",
    "\t\t[0, 0, 0, 1, 1, 0, 0, 0],\n",
    "\t\t[0, 0, 0, 1, 1, 0, 0, 0],\n",
    "\t\t[0, 0, 0, 1, 1, 0, 0, 0],\n",
    "\t\t[0, 0, 0, 1, 1, 0, 0, 0],\n",
    "\t\t[0, 0, 0, 1, 1, 0, 0, 0]]\n",
    "data = np.array(data)\n",
    "data = data.reshape(1, 8, 8, 1)"
   ]
  },
  {
   "cell_type": "code",
   "execution_count": 16,
   "id": "1638e87f-656d-4a10-b0a0-ed13d2c14115",
   "metadata": {},
   "outputs": [],
   "source": [
    "# create model\n",
    "model = Sequential()\n",
    "model.add(Conv2D(1, (3,3), input_shape=(8, 8, 1)))"
   ]
  },
  {
   "cell_type": "code",
   "execution_count": 17,
   "id": "e3f44a9a-231d-406b-a2aa-cb4a17ec70dd",
   "metadata": {},
   "outputs": [
    {
     "name": "stdout",
     "output_type": "stream",
     "text": [
      "[array([[[[0.]],\n",
      "\n",
      "        [[1.]],\n",
      "\n",
      "        [[0.]]],\n",
      "\n",
      "\n",
      "       [[[0.]],\n",
      "\n",
      "        [[1.]],\n",
      "\n",
      "        [[0.]]],\n",
      "\n",
      "\n",
      "       [[[0.]],\n",
      "\n",
      "        [[1.]],\n",
      "\n",
      "        [[0.]]]], dtype=float32), array([0.], dtype=float32)]\n"
     ]
    }
   ],
   "source": [
    "detector = [[[[0]],[[1]],[[0]]],\n",
    "            [[[0]],[[1]],[[0]]],\n",
    "            [[[0]],[[1]],[[0]]]]\n",
    "weights = [np.array(detector), np.array([0.0])]\n",
    "# store the weights in the model\n",
    "model.set_weights(weights)\n",
    "# confirm they were stored\n",
    "print(model.get_weights())"
   ]
  },
  {
   "cell_type": "code",
   "execution_count": 18,
   "id": "d7874982-9bf3-4380-80e4-5979beb42d5c",
   "metadata": {},
   "outputs": [],
   "source": [
    "# apply filter to input data\n",
    "yhat = model.predict(data)"
   ]
  },
  {
   "cell_type": "code",
   "execution_count": 19,
   "id": "ccd0b64e-68fd-4e09-aaa2-5ccc403bcb4f",
   "metadata": {},
   "outputs": [
    {
     "name": "stdout",
     "output_type": "stream",
     "text": [
      "[0.0, 0.0, 3.0, 3.0, 0.0, 0.0]\n",
      "[0.0, 0.0, 3.0, 3.0, 0.0, 0.0]\n",
      "[0.0, 0.0, 3.0, 3.0, 0.0, 0.0]\n",
      "[0.0, 0.0, 3.0, 3.0, 0.0, 0.0]\n",
      "[0.0, 0.0, 3.0, 3.0, 0.0, 0.0]\n",
      "[0.0, 0.0, 3.0, 3.0, 0.0, 0.0]\n"
     ]
    }
   ],
   "source": [
    "for r in range(yhat.shape[1]):\n",
    "\t# print each column in the row\n",
    "\tprint([yhat[0,r,c,0] for c in range(yhat.shape[2])])"
   ]
  },
  {
   "cell_type": "code",
   "execution_count": null,
   "id": "66ae7885-4437-456e-b2a4-ac85d44fb69d",
   "metadata": {},
   "outputs": [],
   "source": []
  }
 ],
 "metadata": {
  "kernelspec": {
   "display_name": "Python 3",
   "language": "python",
   "name": "python3"
  },
  "language_info": {
   "codemirror_mode": {
    "name": "ipython",
    "version": 3
   },
   "file_extension": ".py",
   "mimetype": "text/x-python",
   "name": "python",
   "nbconvert_exporter": "python",
   "pygments_lexer": "ipython3",
   "version": "3.8.3"
  }
 },
 "nbformat": 4,
 "nbformat_minor": 5
}
